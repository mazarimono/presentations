{
  "nbformat": 4,
  "nbformat_minor": 0,
  "metadata": {
    "colab": {
      "name": "plotly_dash_hands_on.ipynb",
      "provenance": [],
      "collapsed_sections": [],
      "authorship_tag": "ABX9TyP4rXtOKjfOmESQOhfVIR7l",
      "include_colab_link": true
    },
    "kernelspec": {
      "name": "python3",
      "display_name": "Python 3"
    }
  },
  "cells": [
    {
      "cell_type": "markdown",
      "metadata": {
        "id": "view-in-github",
        "colab_type": "text"
      },
      "source": [
        "<a href=\"https://colab.research.google.com/github/mazarimono/presentations/blob/main/plotly_dash_hands_on.ipynb\" target=\"_parent\"><img src=\"https://colab.research.google.com/assets/colab-badge.svg\" alt=\"Open In Colab\"/></a>"
      ]
    },
    {
      "cell_type": "markdown",
      "metadata": {
        "id": "FVH1gM9nuIZb"
      },
      "source": [
        "# Plotly/Dashによるインタラクティブ・データ可視化入門ハンズオン\n",
        "## Dash編 / 2020/12/5\n",
        "\n",
        "- Dashの概要を解説し、最終的にアプリケーションを作成する\n",
        "- なるだけ手を動かしてもらう\n",
        "- 今回はjupyter_dashを使う     \n",
        "  - dash / ウェブアプリケーションを作成するパッケージ\n",
        "  - jupyter_dash / jupyter上で動作するアプリケーションを作成するパッケージ\n",
        "    - jupyter_dashの注意点：jupyter上で動作するため、データ分析をするときに使えて便利だったりするが、公開されて時間がたっていないため、うまく動かない理由が分からないことや、そもそも動かない（dashでは動いても）というケースもあるのでちょっと注意を。今回使うのはハンズオンには便利だからです。\n",
        "\n",
        "## Dashとは\n",
        "- ウェブフレームワーク\n",
        "  - React.js, Plotly, Flaskを組み合わせて作成されている\n",
        "  - コンポーネントを組み合わせてアプリケーションの見た目を作る\n",
        "    - 引数にデータを渡し、宣言的に作成\n",
        "  - コールバックを使って、アプリケーションを連鎖的に動かす\n",
        "    - コールバックを使いこなすと動的なツールが作れる。コールバックが使えないとDashを使う意味がないといって過言ではない\n",
        "- コンポーネントは色々提供されています。どんどん増加中 => [公式ドキュメント](https://dash.plotly.com/)\n",
        "  - 書籍では次の6つのコンポーネントをとりあげました\n",
        "    - [Dash HTML Components](https://dash.plotly.com/dash-html-components): HTML構造を作成するコンポーネント\n",
        "    - [Dash Core Components](https://dash.plotly.com/dash-core-components): ドロップダウンやグラフなどのコンポーネント\n",
        "    - [Dash DataTable](https://dash.plotly.com/datatable): 表データを扱うためのコンポーネント\n",
        "    - [Dash Canvas](https://dash.plotly.com/canvas): 画像へのアノテーション機能をもつコンポーネント\n",
        "    - [Dash Bio](https://dash.plotly.com/dash-bio): バイオインフォマティクス用コンポーネント\n",
        "    - [Dash DAQ](https://dash.plotly.com/dash-daq): IoTデータの表示に使えるコンポーネント\n",
        "    - [Dash Cytoscape](https://dash.plotly.com/cytoscape): ネットワーク可視化用コンポーネント\n",
        "  - 本日ではこの中から主となるDash HTML ComponentsとDash Core Componentsを使ってハンズオンを行います！！(dash_tableも使っているのですが、解説までは時間の都合でできません)"
      ]
    },
    {
      "cell_type": "code",
      "metadata": {
        "colab": {
          "base_uri": "https://localhost:8080/"
        },
        "id": "GZyL6_ytt-Lm",
        "outputId": "e51263a4-bbb4-410c-84af-16f5cf5b6880"
      },
      "source": [
        "# まずはjupyter_dashパッケージのインストールとplotlyのアップグレード\n",
        "!pip install jupyter_dash \n",
        "!pip install plotly --upgrade"
      ],
      "execution_count": 1,
      "outputs": [
        {
          "output_type": "stream",
          "text": [
            "Collecting jupyter_dash\n",
            "\u001b[?25l  Downloading https://files.pythonhosted.org/packages/b9/b9/5f9499a0154124a262c85e3a99033b9b3a20dc3d2707b587f52b32b60d76/jupyter_dash-0.3.1-py3-none-any.whl (49kB)\n",
            "\u001b[K     |████████████████████████████████| 51kB 2.6MB/s \n",
            "\u001b[?25hRequirement already satisfied: flask in /usr/local/lib/python3.6/dist-packages (from jupyter_dash) (1.1.2)\n",
            "Collecting dash\n",
            "\u001b[?25l  Downloading https://files.pythonhosted.org/packages/69/91/ae029886dda55b93b60ac04377bcb2ab9209dd73244e3b5e513124cc6778/dash-1.17.0.tar.gz (75kB)\n",
            "\u001b[K     |████████████████████████████████| 81kB 4.0MB/s \n",
            "\u001b[?25hRequirement already satisfied: ipython in /usr/local/lib/python3.6/dist-packages (from jupyter_dash) (5.5.0)\n",
            "Requirement already satisfied: requests in /usr/local/lib/python3.6/dist-packages (from jupyter_dash) (2.23.0)\n",
            "Requirement already satisfied: retrying in /usr/local/lib/python3.6/dist-packages (from jupyter_dash) (1.3.3)\n",
            "Collecting ansi2html\n",
            "  Downloading https://files.pythonhosted.org/packages/c6/85/3a46be84afbb16b392a138cd396117f438c7b2e91d8dc327621d1ae1b5dc/ansi2html-1.6.0-py3-none-any.whl\n",
            "Requirement already satisfied: ipykernel in /usr/local/lib/python3.6/dist-packages (from jupyter_dash) (4.10.1)\n",
            "Requirement already satisfied: Werkzeug>=0.15 in /usr/local/lib/python3.6/dist-packages (from flask->jupyter_dash) (1.0.1)\n",
            "Requirement already satisfied: itsdangerous>=0.24 in /usr/local/lib/python3.6/dist-packages (from flask->jupyter_dash) (1.1.0)\n",
            "Requirement already satisfied: click>=5.1 in /usr/local/lib/python3.6/dist-packages (from flask->jupyter_dash) (7.1.2)\n",
            "Requirement already satisfied: Jinja2>=2.10.1 in /usr/local/lib/python3.6/dist-packages (from flask->jupyter_dash) (2.11.2)\n",
            "Collecting flask-compress\n",
            "  Downloading https://files.pythonhosted.org/packages/b2/7a/9c4641f975fb9daaf945dc39da6a52fd5693ab3bbc2d53780eab3b5106f4/Flask_Compress-1.8.0-py3-none-any.whl\n",
            "Requirement already satisfied: plotly in /usr/local/lib/python3.6/dist-packages (from dash->jupyter_dash) (4.4.1)\n",
            "Collecting dash_renderer==1.8.3\n",
            "\u001b[?25l  Downloading https://files.pythonhosted.org/packages/72/fe/59a322edb128ad15205002c7b81e3f5e580f6791c4a100183289e05dbfcb/dash_renderer-1.8.3.tar.gz (1.0MB)\n",
            "\u001b[K     |████████████████████████████████| 1.0MB 7.2MB/s \n",
            "\u001b[?25hCollecting dash-core-components==1.13.0\n",
            "\u001b[?25l  Downloading https://files.pythonhosted.org/packages/52/48/3dd8c7bf93cff3a9dd9d360bc25c4ec0cb191acdce13375c3ff85f98e992/dash_core_components-1.13.0.tar.gz (3.5MB)\n",
            "\u001b[K     |████████████████████████████████| 3.5MB 12.2MB/s \n",
            "\u001b[?25hCollecting dash-html-components==1.1.1\n",
            "\u001b[?25l  Downloading https://files.pythonhosted.org/packages/02/ba/bb9427c62feb25bfbaf243894eeeb4e7c67a92b426ed0575a167100e436e/dash_html_components-1.1.1.tar.gz (188kB)\n",
            "\u001b[K     |████████████████████████████████| 194kB 37.6MB/s \n",
            "\u001b[?25hCollecting dash-table==4.11.0\n",
            "\u001b[?25l  Downloading https://files.pythonhosted.org/packages/bb/46/cc839f897cabea3f584cf59ce9d86a5ea3828e54eefe2537ba8b640a9707/dash_table-4.11.0.tar.gz (1.8MB)\n",
            "\u001b[K     |████████████████████████████████| 1.8MB 32.1MB/s \n",
            "\u001b[?25hRequirement already satisfied: future in /usr/local/lib/python3.6/dist-packages (from dash->jupyter_dash) (0.16.0)\n",
            "Requirement already satisfied: simplegeneric>0.8 in /usr/local/lib/python3.6/dist-packages (from ipython->jupyter_dash) (0.8.1)\n",
            "Requirement already satisfied: decorator in /usr/local/lib/python3.6/dist-packages (from ipython->jupyter_dash) (4.4.2)\n",
            "Requirement already satisfied: setuptools>=18.5 in /usr/local/lib/python3.6/dist-packages (from ipython->jupyter_dash) (50.3.2)\n",
            "Requirement already satisfied: pexpect; sys_platform != \"win32\" in /usr/local/lib/python3.6/dist-packages (from ipython->jupyter_dash) (4.8.0)\n",
            "Requirement already satisfied: traitlets>=4.2 in /usr/local/lib/python3.6/dist-packages (from ipython->jupyter_dash) (4.3.3)\n",
            "Requirement already satisfied: pickleshare in /usr/local/lib/python3.6/dist-packages (from ipython->jupyter_dash) (0.7.5)\n",
            "Requirement already satisfied: prompt-toolkit<2.0.0,>=1.0.4 in /usr/local/lib/python3.6/dist-packages (from ipython->jupyter_dash) (1.0.18)\n",
            "Requirement already satisfied: pygments in /usr/local/lib/python3.6/dist-packages (from ipython->jupyter_dash) (2.6.1)\n",
            "Requirement already satisfied: certifi>=2017.4.17 in /usr/local/lib/python3.6/dist-packages (from requests->jupyter_dash) (2020.11.8)\n",
            "Requirement already satisfied: idna<3,>=2.5 in /usr/local/lib/python3.6/dist-packages (from requests->jupyter_dash) (2.10)\n",
            "Requirement already satisfied: urllib3!=1.25.0,!=1.25.1,<1.26,>=1.21.1 in /usr/local/lib/python3.6/dist-packages (from requests->jupyter_dash) (1.24.3)\n",
            "Requirement already satisfied: chardet<4,>=3.0.2 in /usr/local/lib/python3.6/dist-packages (from requests->jupyter_dash) (3.0.4)\n",
            "Requirement already satisfied: six>=1.7.0 in /usr/local/lib/python3.6/dist-packages (from retrying->jupyter_dash) (1.15.0)\n",
            "Requirement already satisfied: jupyter-client in /usr/local/lib/python3.6/dist-packages (from ipykernel->jupyter_dash) (5.3.5)\n",
            "Requirement already satisfied: tornado>=4.0 in /usr/local/lib/python3.6/dist-packages (from ipykernel->jupyter_dash) (5.1.1)\n",
            "Requirement already satisfied: MarkupSafe>=0.23 in /usr/local/lib/python3.6/dist-packages (from Jinja2>=2.10.1->flask->jupyter_dash) (1.1.1)\n",
            "Collecting brotli\n",
            "\u001b[?25l  Downloading https://files.pythonhosted.org/packages/b4/d3/7c98f05b7b9103e2f3a112ba42f269c798155b3e5404fb80bb8f823aaebe/Brotli-1.0.9-cp36-cp36m-manylinux1_x86_64.whl (357kB)\n",
            "\u001b[K     |████████████████████████████████| 358kB 40.5MB/s \n",
            "\u001b[?25hRequirement already satisfied: ptyprocess>=0.5 in /usr/local/lib/python3.6/dist-packages (from pexpect; sys_platform != \"win32\"->ipython->jupyter_dash) (0.6.0)\n",
            "Requirement already satisfied: ipython-genutils in /usr/local/lib/python3.6/dist-packages (from traitlets>=4.2->ipython->jupyter_dash) (0.2.0)\n",
            "Requirement already satisfied: wcwidth in /usr/local/lib/python3.6/dist-packages (from prompt-toolkit<2.0.0,>=1.0.4->ipython->jupyter_dash) (0.2.5)\n",
            "Requirement already satisfied: python-dateutil>=2.1 in /usr/local/lib/python3.6/dist-packages (from jupyter-client->ipykernel->jupyter_dash) (2.8.1)\n",
            "Requirement already satisfied: jupyter-core>=4.6.0 in /usr/local/lib/python3.6/dist-packages (from jupyter-client->ipykernel->jupyter_dash) (4.7.0)\n",
            "Requirement already satisfied: pyzmq>=13 in /usr/local/lib/python3.6/dist-packages (from jupyter-client->ipykernel->jupyter_dash) (20.0.0)\n",
            "Building wheels for collected packages: dash, dash-renderer, dash-core-components, dash-html-components, dash-table\n",
            "  Building wheel for dash (setup.py) ... \u001b[?25l\u001b[?25hdone\n",
            "  Created wheel for dash: filename=dash-1.17.0-cp36-none-any.whl size=83728 sha256=3b165371ecc06c4a09811868fdb8747ab59ea7e09b77aadc99293ad56bf0e8ac\n",
            "  Stored in directory: /root/.cache/pip/wheels/e0/32/13/8a569b638a79cf80a4a721f56040d91198adec28e3bc8123fc\n",
            "  Building wheel for dash-renderer (setup.py) ... \u001b[?25l\u001b[?25hdone\n",
            "  Created wheel for dash-renderer: filename=dash_renderer-1.8.3-cp36-none-any.whl size=1013944 sha256=45bbd5da66d452d51b2c0cab0759c16b8dbcbca18535d3e30b08e5df0005addc\n",
            "  Stored in directory: /root/.cache/pip/wheels/cf/2b/5f/0928a6d1b7ebf280f21a2e925f36d662e6ba83e00b82c6b6bf\n",
            "  Building wheel for dash-core-components (setup.py) ... \u001b[?25l\u001b[?25hdone\n",
            "  Created wheel for dash-core-components: filename=dash_core_components-1.13.0-cp36-none-any.whl size=3513142 sha256=64019fcd725212d8554cee08fa1743280bdde4014526666aa93603e29e775ed5\n",
            "  Stored in directory: /root/.cache/pip/wheels/44/d9/90/177214625a5b5f6440b24ea807550e07fbf439a495eee4dd36\n",
            "  Building wheel for dash-html-components (setup.py) ... \u001b[?25l\u001b[?25hdone\n",
            "  Created wheel for dash-html-components: filename=dash_html_components-1.1.1-cp36-none-any.whl size=427894 sha256=aa56763853e8ceeedf122934718b910374e39db80429fdbc2a1c1951286dca25\n",
            "  Stored in directory: /root/.cache/pip/wheels/8d/01/46/78e4de185a8a4a2da8ba31da16c52170f036d4cebeeb6e07a2\n",
            "  Building wheel for dash-table (setup.py) ... \u001b[?25l\u001b[?25hdone\n",
            "  Created wheel for dash-table: filename=dash_table-4.11.0-cp36-none-any.whl size=1839767 sha256=884636836d3145d1257f69b77918360ffb5354ce01eb7c562e9fa8cf0d8ab4c5\n",
            "  Stored in directory: /root/.cache/pip/wheels/ca/37/90/bd45dcc5d6acbe6ac53f753a8f1732ecf5270017372e389cd8\n",
            "Successfully built dash dash-renderer dash-core-components dash-html-components dash-table\n",
            "Installing collected packages: brotli, flask-compress, dash-renderer, dash-core-components, dash-html-components, dash-table, dash, ansi2html, jupyter-dash\n",
            "Successfully installed ansi2html-1.6.0 brotli-1.0.9 dash-1.17.0 dash-core-components-1.13.0 dash-html-components-1.1.1 dash-renderer-1.8.3 dash-table-4.11.0 flask-compress-1.8.0 jupyter-dash-0.3.1\n",
            "Collecting plotly\n",
            "\u001b[?25l  Downloading https://files.pythonhosted.org/packages/4c/f3/93bc71d449828098efc7dda0a682937762d0c17f6140dcbc6fc6fa2a467d/plotly-4.13.0-py2.py3-none-any.whl (13.1MB)\n",
            "\u001b[K     |████████████████████████████████| 13.1MB 316kB/s \n",
            "\u001b[?25hRequirement already satisfied, skipping upgrade: retrying>=1.3.3 in /usr/local/lib/python3.6/dist-packages (from plotly) (1.3.3)\n",
            "Requirement already satisfied, skipping upgrade: six in /usr/local/lib/python3.6/dist-packages (from plotly) (1.15.0)\n",
            "Installing collected packages: plotly\n",
            "  Found existing installation: plotly 4.4.1\n",
            "    Uninstalling plotly-4.4.1:\n",
            "      Successfully uninstalled plotly-4.4.1\n",
            "Successfully installed plotly-4.13.0\n"
          ],
          "name": "stdout"
        }
      ]
    },
    {
      "cell_type": "code",
      "metadata": {
        "id": "yIP2B8m15-Pn"
      },
      "source": [
        "# 必要パッケージのインポート\n",
        "\n",
        "import dash \n",
        "\n",
        "from jupyter_dash import JupyterDash \n",
        "import dash_core_components as dcc \n",
        "import dash_html_components as html \n",
        "from dash_table import DataTable\n",
        "\n",
        "from dash.dependencies import Input, Output, State\n",
        "\n",
        "import pandas as pd\n",
        "import plotly.express as px"
      ],
      "execution_count": 6,
      "outputs": []
    },
    {
      "cell_type": "markdown",
      "metadata": {
        "id": "dM6NsE4FehUX"
      },
      "source": [
        "## サンプル1\n",
        "- gapminderデータを使います\n",
        "- ドロップダウン2つとグラフを1つもつアプリケーションを作成します\n",
        "- ドロップダウンでは、グラフの種類、国を選択できます\n",
        "\n"
      ]
    },
    {
      "cell_type": "code",
      "metadata": {
        "colab": {
          "base_uri": "https://localhost:8080/",
          "height": 672
        },
        "id": "hT5892TXvJ5x",
        "outputId": "f0a86018-43e2-4d14-b418-6d868c2a0289"
      },
      "source": [
        "# ドロップダウンの選択によりグラフの種類が更新されるアプリケーション\n",
        "\n",
        "## 外部cssの指定\n",
        "external_stylesheets = [\"https://codepen.io/chriddyp/pen/bWLwgP.css\"]\n",
        "\n",
        "## gapminderデータの読み込み\n",
        "gapminder = px.data.gapminder()\n",
        "\n",
        "## JupyterDashインスタンスの作成\n",
        "app = JupyterDash(__name__, external_stylesheets=external_stylesheets)\n",
        "\n",
        "## グラフ種類のリストの作成\n",
        "graph_type = [px.line, px.scatter, px.bar]\n",
        "\n",
        "## ドロップダウンを2つ並べて表示するためのスタイル\n",
        "half_style = {'width': '50%', 'display': 'inline-block'}\n",
        "\n",
        "## レイアウトの作成\n",
        "app.layout = html.Div([\n",
        "                       # H1クラスからH1コンポーネントを作成\n",
        "                       html.H1('サンプルアプリケーション1'),\n",
        "\n",
        "                      # 要素を選択できるドロップダウンを2つ配置\n",
        "                       dcc.Dropdown(id='my_drop1', options=[{'label': type_.__name__, 'value': num}\n",
        "                                    for num, type_ in enumerate(graph_type)], value=0, style=half_style),\n",
        "                       dcc.Dropdown(id='my_drop2', options=[{'label': country, 'value': country}\n",
        "                                    for country in gapminder.country.unique()], value='Japan', style=half_style),\n",
        "                      # グラフ\n",
        "                       dcc.Graph(id='my_graph')\n",
        "])\n",
        "\n",
        "# コールバック\n",
        "## ドロップダウンの選択値を反映したグラフを返す\n",
        "\n",
        "@app.callback(Output('my_graph', 'figure'), Input('my_drop1', 'value'), Input('my_drop2', 'value'))\n",
        "def update_graph(graph_num, selected_country):\n",
        "  selected_df = gapminder[gapminder['country'] == selected_country]\n",
        "  return graph_type[graph_num](selected_df, x='year', y='pop', title=f'{selected_country}の人口の{graph_type[graph_num].__name__}グラフ')\n",
        "\n",
        "# アプリケーションを動かす\n",
        "app.run_server(mode='inline')\n",
        "\n"
      ],
      "execution_count": 8,
      "outputs": [
        {
          "output_type": "display_data",
          "data": {
            "application/javascript": [
              "(async (port, path, width, height, cache, element) => {\n",
              "    if (!google.colab.kernel.accessAllowed && !cache) {\n",
              "      return;\n",
              "    }\n",
              "    element.appendChild(document.createTextNode(''));\n",
              "    const url = await google.colab.kernel.proxyPort(port, {cache});\n",
              "    const iframe = document.createElement('iframe');\n",
              "    iframe.src = url + path;\n",
              "    iframe.height = height;\n",
              "    iframe.width = width;\n",
              "    iframe.style.border = 0;\n",
              "    element.appendChild(iframe);\n",
              "  })(8050, \"/\", \"100%\", 650, false, window.element)"
            ],
            "text/plain": [
              "<IPython.core.display.Javascript object>"
            ]
          },
          "metadata": {
            "tags": []
          }
        }
      ]
    },
    {
      "cell_type": "markdown",
      "metadata": {
        "id": "PpC2FkUrgCfa"
      },
      "source": [
        "## サンプル2\n",
        "\n",
        "- 再びgapminderデータセットを使います\n",
        "- 散布図で全てのデータを可視化します\n",
        "- 散布図はアニメーションで時系列で動作します\n",
        "- 散布図の気になる点をクリックするとその国の人口と1人当たりgdpを横に線グラフで表示します\n",
        "- 選択した国のデータが下のテーブルに表示され、そのデータがcsvファイルでダウンロードできます"
      ]
    },
    {
      "cell_type": "code",
      "metadata": {
        "colab": {
          "base_uri": "https://localhost:8080/",
          "height": 672
        },
        "id": "xFK3rHLngB4q",
        "outputId": "68734bcd-d39b-4f8f-fdd9-cbc9d9fcff6d"
      },
      "source": [
        "\n",
        "external_stylesheets = [\"https://codepen.io/chriddyp/pen/bWLwgP.css\"]\n",
        "\n",
        "gapminder = px.data.gapminder()\n",
        "\n",
        "app = JupyterDash(__name__, external_stylesheets=external_stylesheets)\n",
        "\n",
        "app.layout = html.Div(\n",
        "    [\n",
        "        html.H1(\"Gapminder Graph\"),\n",
        "        html.H3(\"左側のグラフの要素をShift+マウスクリックで複数国が選択できます。\"),\n",
        "        html.Div(\n",
        "            [\n",
        "                dcc.Graph(\n",
        "                    id=\"graph1\",\n",
        "                    figure=px.scatter(\n",
        "                        gapminder,\n",
        "                        x=\"gdpPercap\",\n",
        "                        y=\"lifeExp\",\n",
        "                        size=\"pop\",\n",
        "                        color=\"continent\",\n",
        "                        animation_frame=\"year\",\n",
        "                        log_x=True,\n",
        "                        size_max=70,\n",
        "                        range_y=[20, 90],\n",
        "                        hover_data=[\"country\"],\n",
        "                        template={\"layout\": {\"clickmode\": \"event+select\"}},\n",
        "                    ),\n",
        "                    style={\"width\": \"50%\", \"display\": \"inline-block\", \"height\": 600},\n",
        "                ),\n",
        "                html.Div(\n",
        "                    [\n",
        "                        dcc.Graph(id=\"graph2\", style={\"height\": 300}),\n",
        "                        dcc.Graph(id=\"graph3\", style={\"height\": 300}),\n",
        "                    ],\n",
        "                    style={\"width\": \"50%\", \"display\": \"inline-block\", \"height\": 600},\n",
        "                ),\n",
        "            ]\n",
        "        ),\n",
        "        html.Div(\n",
        "            [DataTable(id=\"table\", export_format=\"csv\", filter_action=\"native\"),],\n",
        "            style={\"width\": \"80%\", \"margin\": \"auto\"},\n",
        "        ),\n",
        "    ]\n",
        ")\n",
        "\n",
        "\n",
        "@app.callback(\n",
        "    Output(\"graph2\", \"figure\"),\n",
        "    Output(\"graph3\", \"figure\"),\n",
        "    Output(\"table\", \"columns\"),\n",
        "    Output(\"table\", \"data\"),\n",
        "    Input(\"graph1\", \"selectedData\"),\n",
        ")\n",
        "def update_graph(selectedData):\n",
        "    if selectedData:\n",
        "        selected_countries = [data[\"customdata\"][0] for data in selectedData[\"points\"]]\n",
        "        selected_df = gapminder[gapminder[\"country\"].isin(selected_countries)]\n",
        "        fig1 = px.line(selected_df, x=\"year\", y=\"pop\", color=\"country\", title=\"各国の人口\")\n",
        "        fig2 = px.line(\n",
        "            selected_df, x=\"year\", y=\"gdpPercap\", color=\"country\", title=\"各国の1人当たりGDP\"\n",
        "        )\n",
        "        columns = [\n",
        "            {\"name\": col, \"id\": col, \"deletable\": True} for col in selected_df.columns\n",
        "        ]\n",
        "        return fig1, fig2, columns, selected_df.to_dict(\"records\")\n",
        "    raise dash.exceptions.PreventUpdate\n",
        "\n",
        "app.run_server(mode='inline')"
      ],
      "execution_count": 7,
      "outputs": [
        {
          "output_type": "display_data",
          "data": {
            "application/javascript": [
              "(async (port, path, width, height, cache, element) => {\n",
              "    if (!google.colab.kernel.accessAllowed && !cache) {\n",
              "      return;\n",
              "    }\n",
              "    element.appendChild(document.createTextNode(''));\n",
              "    const url = await google.colab.kernel.proxyPort(port, {cache});\n",
              "    const iframe = document.createElement('iframe');\n",
              "    iframe.src = url + path;\n",
              "    iframe.height = height;\n",
              "    iframe.width = width;\n",
              "    iframe.style.border = 0;\n",
              "    element.appendChild(iframe);\n",
              "  })(8050, \"/\", \"100%\", 650, false, window.element)"
            ],
            "text/plain": [
              "<IPython.core.display.Javascript object>"
            ]
          },
          "metadata": {
            "tags": []
          }
        }
      ]
    },
    {
      "cell_type": "markdown",
      "metadata": {
        "id": "MT8gex8JZg4D"
      },
      "source": [
        "## 1.コンポーネント\n",
        "- いくつかのパッケージにより提供されています\n",
        "- クラスの引数に対して値を渡して作成します\n",
        "- ここでは **html.H1** コンポーネント、**dcc.Dropdown** コンポーネント、**dcc.Grpah** コンポーネントをとりあげます\n",
        "  - コンポーネントは最初の文字が大文字になっています\n",
        "  - helpを使うと各コンポーネントの持つ属性が確認できます\n",
        "\n",
        "\n",
        "\n"
      ]
    },
    {
      "cell_type": "code",
      "metadata": {
        "id": "Kxyjo_yM_28E",
        "colab": {
          "base_uri": "https://localhost:8080/"
        },
        "outputId": "69f4b874-f99a-4b64-dcfb-cb0c4b388fe3"
      },
      "source": [
        "## 引数を調べる場合\n",
        "help(html.H1)"
      ],
      "execution_count": null,
      "outputs": [
        {
          "output_type": "stream",
          "text": [
            "Help on class H1 in module dash_html_components.H1:\n",
            "\n",
            "class H1(dash.development.base_component.Component)\n",
            " |  A H1 component.\n",
            " |  H1 is a wrapper for the <h1> HTML5 element.\n",
            " |  For detailed attribute info see:\n",
            " |  https://developer.mozilla.org/en-US/docs/Web/HTML/Element/h1\n",
            " |  \n",
            " |  Keyword arguments:\n",
            " |  - children (a list of or a singular dash component, string or number; optional): The children of this component\n",
            " |  - id (string; optional): The ID of this component, used to identify dash components\n",
            " |  in callbacks. The ID needs to be unique across all of the\n",
            " |  components in an app.\n",
            " |  - n_clicks (number; default 0): An integer that represents the number of times\n",
            " |  that this element has been clicked on.\n",
            " |  - n_clicks_timestamp (number; default -1): An integer that represents the time (in ms since 1970)\n",
            " |  at which n_clicks changed. This can be used to tell\n",
            " |  which button was changed most recently.\n",
            " |  - key (string; optional): A unique identifier for the component, used to improve\n",
            " |  performance by React.js while rendering components\n",
            " |  See https://reactjs.org/docs/lists-and-keys.html for more info\n",
            " |  - role (string; optional): The ARIA role attribute\n",
            " |  - data-* (string; optional): A wildcard data attribute\n",
            " |  - aria-* (string; optional): A wildcard aria attribute\n",
            " |  - accessKey (string; optional): Keyboard shortcut to activate or add focus to the element.\n",
            " |  - className (string; optional): Often used with CSS to style elements with common properties.\n",
            " |  - contentEditable (string; optional): Indicates whether the element's content is editable.\n",
            " |  - contextMenu (string; optional): Defines the ID of a <menu> element which will serve as the element's context menu.\n",
            " |  - dir (string; optional): Defines the text direction. Allowed values are ltr (Left-To-Right) or rtl (Right-To-Left)\n",
            " |  - draggable (string; optional): Defines whether the element can be dragged.\n",
            " |  - hidden (a value equal to: 'hidden', 'HIDDEN' | boolean; optional): Prevents rendering of given element, while keeping child elements, e.g. script elements, active.\n",
            " |  - lang (string; optional): Defines the language used in the element.\n",
            " |  - spellCheck (string; optional): Indicates whether spell checking is allowed for the element.\n",
            " |  - style (dict; optional): Defines CSS styles which will override styles previously set.\n",
            " |  - tabIndex (string; optional): Overrides the browser's default tab order and follows the one specified instead.\n",
            " |  - title (string; optional): Text to be displayed in a tooltip when hovering over the element.\n",
            " |  - loading_state (dict; optional): Object that holds the loading state object coming from dash-renderer. loading_state has the following type: dict containing keys 'is_loading', 'prop_name', 'component_name'.\n",
            " |  Those keys have the following types:\n",
            " |    - is_loading (boolean; optional): Determines if the component is loading or not\n",
            " |    - prop_name (string; optional): Holds which property is loading\n",
            " |    - component_name (string; optional): Holds the name of the component that is loading\n",
            " |  \n",
            " |  Method resolution order:\n",
            " |      H1\n",
            " |      dash.development.base_component.Component\n",
            " |      builtins.object\n",
            " |  \n",
            " |  Methods defined here:\n",
            " |  \n",
            " |  __init__ = wrapper(self, children=None, id=undefined, n_clicks=undefined, n_clicks_timestamp=undefined, key=undefined, role=undefined, accessKey=undefined, className=undefined, contentEditable=undefined, contextMenu=undefined, dir=undefined, draggable=undefined, hidden=undefined, lang=undefined, spellCheck=undefined, style=undefined, tabIndex=undefined, title=undefined, loading_state=undefined, **kwargs)\n",
            " |  \n",
            " |  ----------------------------------------------------------------------\n",
            " |  Data and other attributes defined here:\n",
            " |  \n",
            " |  __abstractmethods__ = frozenset()\n",
            " |  \n",
            " |  ----------------------------------------------------------------------\n",
            " |  Methods inherited from dash.development.base_component.Component:\n",
            " |  \n",
            " |  __delitem__(self, id)\n",
            " |      Delete items by ID in the tree of children.\n",
            " |  \n",
            " |  __getitem__(self, id)\n",
            " |      Recursively find the element with the given ID through the tree of\n",
            " |      children.\n",
            " |  \n",
            " |  __iter__(self)\n",
            " |      Yield IDs in the tree of children.\n",
            " |  \n",
            " |  __len__(self)\n",
            " |      Return the number of items in the tree.\n",
            " |  \n",
            " |  __repr__(self)\n",
            " |      Return repr(self).\n",
            " |  \n",
            " |  __setitem__(self, id, item)\n",
            " |      Set an element by its ID.\n",
            " |  \n",
            " |  to_plotly_json(self)\n",
            " |  \n",
            " |  ----------------------------------------------------------------------\n",
            " |  Data descriptors inherited from dash.development.base_component.Component:\n",
            " |  \n",
            " |  __dict__\n",
            " |      dictionary for instance variables (if defined)\n",
            " |  \n",
            " |  __weakref__\n",
            " |      list of weak references to the object (if defined)\n",
            " |  \n",
            " |  ----------------------------------------------------------------------\n",
            " |  Data and other attributes inherited from dash.development.base_component.Component:\n",
            " |  \n",
            " |  REQUIRED = required\n",
            " |  \n",
            " |  UNDEFINED = undefined\n",
            "\n"
          ],
          "name": "stdout"
        }
      ]
    },
    {
      "cell_type": "markdown",
      "metadata": {
        "id": "7lo2LjiYqfNV"
      },
      "source": [
        "### H1コンポーネント\n",
        "- HTMLのH1タグ\n",
        "- Dash HTML Componentsに含まれる\n",
        "  - Dash HTML Componentsは全てのHTMLタグを持つ"
      ]
    },
    {
      "cell_type": "code",
      "metadata": {
        "colab": {
          "base_uri": "https://localhost:8080/"
        },
        "id": "6gFWCaL6k1Tr",
        "outputId": "59945749-6283-4905-cf3c-0845068e5289"
      },
      "source": [
        "# 引数 children (第1引数)に文字列は渡す\n",
        "html.H1('hello plotly-dash-book')"
      ],
      "execution_count": 9,
      "outputs": [
        {
          "output_type": "execute_result",
          "data": {
            "text/plain": [
              "H1('hello plotly-dash-book')"
            ]
          },
          "metadata": {
            "tags": []
          },
          "execution_count": 9
        }
      ]
    },
    {
      "cell_type": "code",
      "metadata": {
        "colab": {
          "base_uri": "https://localhost:8080/",
          "height": 672
        },
        "id": "qTSy69RulOp7",
        "outputId": "d71636bf-a695-4d47-d553-ae089bd441e6"
      },
      "source": [
        "# Dash(JupyterDash)のレイアウトとして表示する\n",
        "\n",
        "# JupyterDashインスタンスの作成\n",
        "app = JupyterDash(__name__)\n",
        "\n",
        "# layout属性にコンポーネントを渡す\n",
        "app.layout = html.H1('Hello Plotly-Dash-Book')\n",
        "\n",
        "# サーバをローカルで起動（modeに表示モードを渡す　'inline'だとノートブック上に表示される）\n",
        "app.run_server(mode='inline')"
      ],
      "execution_count": 10,
      "outputs": [
        {
          "output_type": "display_data",
          "data": {
            "application/javascript": [
              "(async (port, path, width, height, cache, element) => {\n",
              "    if (!google.colab.kernel.accessAllowed && !cache) {\n",
              "      return;\n",
              "    }\n",
              "    element.appendChild(document.createTextNode(''));\n",
              "    const url = await google.colab.kernel.proxyPort(port, {cache});\n",
              "    const iframe = document.createElement('iframe');\n",
              "    iframe.src = url + path;\n",
              "    iframe.height = height;\n",
              "    iframe.width = width;\n",
              "    iframe.style.border = 0;\n",
              "    element.appendChild(iframe);\n",
              "  })(8050, \"/\", \"100%\", 650, false, window.element)"
            ],
            "text/plain": [
              "<IPython.core.display.Javascript object>"
            ]
          },
          "metadata": {
            "tags": []
          }
        }
      ]
    },
    {
      "cell_type": "markdown",
      "metadata": {
        "id": "5lmODMvasFhn"
      },
      "source": [
        "### Dropdownコンポーネント\n",
        "- Dash Core ComponentsのDropdownクラス\n",
        "  - 選択は単一、複数、どちらも可能"
      ]
    },
    {
      "cell_type": "code",
      "metadata": {
        "colab": {
          "base_uri": "https://localhost:8080/"
        },
        "id": "QKuTFGeisBwb",
        "outputId": "ca4605fd-483a-4d0c-ee68-5819e1a3670a"
      },
      "source": [
        "dcc.Dropdown(options=[{'label': 'test1', 'value': 'test1'},\n",
        "                        {'label': 'test2', 'value': 'test2'},\n",
        "                        {'label': 'test3', 'value': 'test3'}],\n",
        "               value='test1')"
      ],
      "execution_count": 11,
      "outputs": [
        {
          "output_type": "execute_result",
          "data": {
            "text/plain": [
              "Dropdown(options=[{'label': 'test1', 'value': 'test1'}, {'label': 'test2', 'value': 'test2'}, {'label': 'test3', 'value': 'test3'}], value='test1')"
            ]
          },
          "metadata": {
            "tags": []
          },
          "execution_count": 11
        }
      ]
    },
    {
      "cell_type": "code",
      "metadata": {
        "colab": {
          "base_uri": "https://localhost:8080/",
          "height": 672
        },
        "id": "6yhbvkwIssxy",
        "outputId": "019c0344-e07b-4078-93c1-74c729b0cdb6"
      },
      "source": [
        "app = JupyterDash(__name__)\n",
        "\n",
        "# 引数 options に選択肢を渡す\n",
        "# 選択肢はlabelとvalueをキーとする辞書を用いて作成する\n",
        "# labelは表示値、valueは内部で扱われる値。\n",
        "# 引数 value には初期値を渡す。\n",
        "\n",
        "app.layout = dcc.Dropdown(options=[{'label': 'test1', 'value': 'test_value1'},\n",
        "                        {'label': 'test2', 'value': 'test_value2'},\n",
        "                        {'label': 'test3', 'value': 'test_value3'}],\n",
        "               value='test_value1')\n",
        "\n",
        "app.run_server(mode='inline')"
      ],
      "execution_count": 12,
      "outputs": [
        {
          "output_type": "display_data",
          "data": {
            "application/javascript": [
              "(async (port, path, width, height, cache, element) => {\n",
              "    if (!google.colab.kernel.accessAllowed && !cache) {\n",
              "      return;\n",
              "    }\n",
              "    element.appendChild(document.createTextNode(''));\n",
              "    const url = await google.colab.kernel.proxyPort(port, {cache});\n",
              "    const iframe = document.createElement('iframe');\n",
              "    iframe.src = url + path;\n",
              "    iframe.height = height;\n",
              "    iframe.width = width;\n",
              "    iframe.style.border = 0;\n",
              "    element.appendChild(iframe);\n",
              "  })(8050, \"/\", \"100%\", 650, false, window.element)"
            ],
            "text/plain": [
              "<IPython.core.display.Javascript object>"
            ]
          },
          "metadata": {
            "tags": []
          }
        }
      ]
    },
    {
      "cell_type": "code",
      "metadata": {
        "colab": {
          "base_uri": "https://localhost:8080/",
          "height": 672
        },
        "id": "F_u8LSw0SY0i",
        "outputId": "fc2f0fc1-00ef-474a-98a3-e555b3267055"
      },
      "source": [
        "app = JupyterDash(__name__)\n",
        "\n",
        "# 複数選択も可能です。\n",
        "app.layout = dcc.Dropdown(options=[{'label': i, 'value': i} for i in ['test1', 'test2', 'test3', 'test4', 'test5']],\n",
        "               value=['test1'], multi=True)\n",
        "\n",
        "app.run_server(mode='inline')"
      ],
      "execution_count": 13,
      "outputs": [
        {
          "output_type": "display_data",
          "data": {
            "application/javascript": [
              "(async (port, path, width, height, cache, element) => {\n",
              "    if (!google.colab.kernel.accessAllowed && !cache) {\n",
              "      return;\n",
              "    }\n",
              "    element.appendChild(document.createTextNode(''));\n",
              "    const url = await google.colab.kernel.proxyPort(port, {cache});\n",
              "    const iframe = document.createElement('iframe');\n",
              "    iframe.src = url + path;\n",
              "    iframe.height = height;\n",
              "    iframe.width = width;\n",
              "    iframe.style.border = 0;\n",
              "    element.appendChild(iframe);\n",
              "  })(8050, \"/\", \"100%\", 650, false, window.element)"
            ],
            "text/plain": [
              "<IPython.core.display.Javascript object>"
            ]
          },
          "metadata": {
            "tags": []
          }
        }
      ]
    },
    {
      "cell_type": "markdown",
      "metadata": {
        "id": "pBqaG5kJ1s49"
      },
      "source": [
        "### Graphコンポーネントを用いてグラフを表示する\n",
        "- 引数figure にplotlyのfigureを渡す"
      ]
    },
    {
      "cell_type": "code",
      "metadata": {
        "colab": {
          "base_uri": "https://localhost:8080/",
          "height": 672
        },
        "id": "C_FuX6Rs1sNy",
        "outputId": "09be4bd7-5d70-459a-b605-847c48b97b49"
      },
      "source": [
        "app = JupyterDash(__name__)\n",
        "\n",
        "app.layout = dcc.Graph(\n",
        "    figure = px.line(x=[1,2,3,4,5], y=[4,5,6,4,6])\n",
        ")\n",
        "\n",
        "app.run_server(mode='inline')"
      ],
      "execution_count": 14,
      "outputs": [
        {
          "output_type": "display_data",
          "data": {
            "application/javascript": [
              "(async (port, path, width, height, cache, element) => {\n",
              "    if (!google.colab.kernel.accessAllowed && !cache) {\n",
              "      return;\n",
              "    }\n",
              "    element.appendChild(document.createTextNode(''));\n",
              "    const url = await google.colab.kernel.proxyPort(port, {cache});\n",
              "    const iframe = document.createElement('iframe');\n",
              "    iframe.src = url + path;\n",
              "    iframe.height = height;\n",
              "    iframe.width = width;\n",
              "    iframe.style.border = 0;\n",
              "    element.appendChild(iframe);\n",
              "  })(8050, \"/\", \"100%\", 650, false, window.element)"
            ],
            "text/plain": [
              "<IPython.core.display.Javascript object>"
            ]
          },
          "metadata": {
            "tags": []
          }
        }
      ]
    },
    {
      "cell_type": "markdown",
      "metadata": {
        "id": "x8D7ZOB9s8rD"
      },
      "source": [
        "### 課題1　気になるコンポーネントを作成しましょう！\n",
        "  - [公式ドキュメント](https://dash.plotly.com/)をみて、気になるコンポーネントを作成してみてください\n",
        "  - 作り方が分からない場合、helpを使って調べてください\n",
        "  - それでもわからない場合、twitterで#plotlydashbook とタグ付けしてツィートしてください\n",
        "\n",
        "(10分、解説5分)"
      ]
    },
    {
      "cell_type": "code",
      "metadata": {
        "id": "oyH1gOySkm7F"
      },
      "source": [
        ""
      ],
      "execution_count": null,
      "outputs": []
    },
    {
      "cell_type": "markdown",
      "metadata": {
        "id": "oQ7kxaHsusia"
      },
      "source": [
        "## 2.レイアウト\n",
        "- 文字通り、アプリケーションの外見の構成です\n",
        "- コンポーネントを組み合わせて作成します\n",
        "- コンポーネントを組み合わせるには、**html.Div** を用います\n",
        "  - children属性にリストに格納、もしくは単数のコンポーネントを渡せます"
      ]
    },
    {
      "cell_type": "code",
      "metadata": {
        "colab": {
          "base_uri": "https://localhost:8080/",
          "height": 672
        },
        "id": "rsQ_-TNzs3_1",
        "outputId": "3e6ccdc9-1956-4714-c34d-a6ebf0275c36"
      },
      "source": [
        "# タイトルと、\n",
        "# 空のドロップダウンコンポーネントとグラフコンポーネントを持つレイアウト作成する\n",
        "\n",
        "app = JupyterDash(__name__)\n",
        "\n",
        "\n",
        "\n",
        "app.layout = html.Div([\n",
        "                       html.H1('Dashハンズオン'),\n",
        "                       dcc.Dropdown(),\n",
        "                       dcc.Graph()\n",
        "])\n",
        "\n",
        "app.run_server(mode='inline')"
      ],
      "execution_count": 15,
      "outputs": [
        {
          "output_type": "display_data",
          "data": {
            "application/javascript": [
              "(async (port, path, width, height, cache, element) => {\n",
              "    if (!google.colab.kernel.accessAllowed && !cache) {\n",
              "      return;\n",
              "    }\n",
              "    element.appendChild(document.createTextNode(''));\n",
              "    const url = await google.colab.kernel.proxyPort(port, {cache});\n",
              "    const iframe = document.createElement('iframe');\n",
              "    iframe.src = url + path;\n",
              "    iframe.height = height;\n",
              "    iframe.width = width;\n",
              "    iframe.style.border = 0;\n",
              "    element.appendChild(iframe);\n",
              "  })(8050, \"/\", \"100%\", 650, false, window.element)"
            ],
            "text/plain": [
              "<IPython.core.display.Javascript object>"
            ]
          },
          "metadata": {
            "tags": []
          }
        }
      ]
    },
    {
      "cell_type": "markdown",
      "metadata": {
        "id": "OHUGfnaYxK-Z"
      },
      "source": [
        "### style属性を使ってCSSを設定する\n",
        "  - コンポーネントを渡すだけではどんどんコンポーネントが積まれるだけとなります\n",
        "  - コンポーネントを配置したい場合は、CSSを設定すると配置できます\n",
        "    - CSSに詳しくない人は[MDNのサイト](https://developer.mozilla.org/en-US/docs/Web/CSS)を参照ください\n",
        "  - 今回はstyle属性に直接渡してCSSを設定します\n",
        "    - assetsディレクトリにCSSファイルを設置する\n",
        "    - Dash Bootstrap Coponents\n",
        "    - Dashのexternal_stylesheet属性\n",
        "\n",
        "\n",
        "- 次にタイトルの下に、ドロップダウンとグラフ（空）が並ぶレイアウトを作成します。"
      ]
    },
    {
      "cell_type": "code",
      "metadata": {
        "colab": {
          "base_uri": "https://localhost:8080/",
          "height": 672
        },
        "id": "nmjHnWR8vu9g",
        "outputId": "82b2366e-2b90-450f-bc33-60b1bbb2add8"
      },
      "source": [
        "app = JupyterDash(__name__)\n",
        "\n",
        "app.layout = html.Div([\n",
        "         html.H1('Dashハンズオン',\n",
        "                 style={'fontSize': '3rem', 'color': 'Red', 'textAlign': 'center'}),\n",
        "                 html.Div([\n",
        "                           dcc.Dropdown(),\n",
        "                          \n",
        "                 ], style={'width': '50%', 'display': 'inline-block'}),\n",
        "                 html.Div([\n",
        "                           dcc.Graph()\n",
        "                 ], style={'width': '50%', 'display': 'inline-block'})              \n",
        "])\n",
        "\n",
        "app.run_server(mode='inline')"
      ],
      "execution_count": 16,
      "outputs": [
        {
          "output_type": "display_data",
          "data": {
            "application/javascript": [
              "(async (port, path, width, height, cache, element) => {\n",
              "    if (!google.colab.kernel.accessAllowed && !cache) {\n",
              "      return;\n",
              "    }\n",
              "    element.appendChild(document.createTextNode(''));\n",
              "    const url = await google.colab.kernel.proxyPort(port, {cache});\n",
              "    const iframe = document.createElement('iframe');\n",
              "    iframe.src = url + path;\n",
              "    iframe.height = height;\n",
              "    iframe.width = width;\n",
              "    iframe.style.border = 0;\n",
              "    element.appendChild(iframe);\n",
              "  })(8050, \"/\", \"100%\", 650, false, window.element)"
            ],
            "text/plain": [
              "<IPython.core.display.Javascript object>"
            ]
          },
          "metadata": {
            "tags": []
          }
        }
      ]
    },
    {
      "cell_type": "markdown",
      "metadata": {
        "id": "TQC2T0qt0PBl"
      },
      "source": [
        "### 課題2\n",
        "- 上のレイアウトのドロップダウンとグラフにデータを渡してください\n",
        "  - 次に下の画像のように、ドロップダウンを3つ、グラフを2つをならべたレイアウトを作成してください\n",
        "\n",
        "<a href=\"https://gyazo.com/13a9ac1503a75cbf2edf55e72a2ed726\"><img src=\"https://i.gyazo.com/13a9ac1503a75cbf2edf55e72a2ed726.png\" alt=\"Image from Gyazo\" width=\"1084\"/></a>\n",
        "\n",
        "  - gapminderのデータを用いて、国名、要素（gdpPercap, pop, lifeExp）、大陸を選択できるドロップダウン、好きな国のgdpPercap, lifeExpを表示するグラフを作成してください\n",
        "\n",
        "(20分くらい)\n"
      ]
    },
    {
      "cell_type": "markdown",
      "metadata": {
        "id": "22llPmAw45WD"
      },
      "source": [
        "## 3.コールバック\n",
        "  - 何かをきっかけに何かが起こる\n",
        "    - 例えば、ドロップダウンの値が変わるとグラフの表示が変わるとか\n",
        "    - 文字を入力されると、何らかの反応を起こすとか\n",
        "\n",
        "  - 次のアプリケーションは私の誕生日を当てるアプリケーションです\n",
        "    - できるだけ、コードを見ないで試してください（答えがあるので）"
      ]
    },
    {
      "cell_type": "code",
      "metadata": {
        "colab": {
          "base_uri": "https://localhost:8080/",
          "height": 672
        },
        "id": "87l8qZjJ3jf8",
        "outputId": "2074b119-b2a9-41dc-ae6b-5b9750e3dc13"
      },
      "source": [
        "app = JupyterDash(__name__)\n",
        "\n",
        "# レイアウト\n",
        "app.layout = html.Div([\n",
        "                       html.P('問題: 私の誕生日は何月何日でしょう？4文字で答えてください!'),\n",
        "                       \n",
        "                       # コールバックに使うコンポーネントはid名を付ける\n",
        "                       \n",
        "                       dcc.Input(id='text_input'),\n",
        "                       html.H1(id='answer')\n",
        "])\n",
        "\n",
        "\n",
        "# コールバック\n",
        "# Dashクラスのcallbackメソッドに対して、コンポーネントのid名と属性名を渡す\n",
        "# Output: コールバック関数の出力先の指定。この場合はH1クラス(id名: text_input)のchildren属性を指定している。\n",
        "# Input: コールバック関数を呼び出すコンポーネントの属性を指定。Inputクラス（id名: answer）のvalue属性を指定している。\n",
        "# prevent_initial_call属性: bool型。初回のコールバックを起動するかどうか。\n",
        "# callbackメソッド　Output,Input,State, prevent_initial_call の順番で並べる\n",
        "\n",
        "\n",
        "@app.callback(Output('answer', 'children'),\n",
        "              Input('text_input', 'value'),\n",
        "              prevent_initail_call=True)\n",
        "def update_anster(input_text):\n",
        "  if len(input_text) == 4:\n",
        "    if input_text == '1218':\n",
        "      return '正解です'\n",
        "    else:\n",
        "      return '間違いです'\n",
        "  else:\n",
        "    return '4文字で入力してください'\n",
        "\n",
        "app.run_server(mode='inline')"
      ],
      "execution_count": 17,
      "outputs": [
        {
          "output_type": "display_data",
          "data": {
            "application/javascript": [
              "(async (port, path, width, height, cache, element) => {\n",
              "    if (!google.colab.kernel.accessAllowed && !cache) {\n",
              "      return;\n",
              "    }\n",
              "    element.appendChild(document.createTextNode(''));\n",
              "    const url = await google.colab.kernel.proxyPort(port, {cache});\n",
              "    const iframe = document.createElement('iframe');\n",
              "    iframe.src = url + path;\n",
              "    iframe.height = height;\n",
              "    iframe.width = width;\n",
              "    iframe.style.border = 0;\n",
              "    element.appendChild(iframe);\n",
              "  })(8050, \"/\", \"100%\", 650, false, window.element)"
            ],
            "text/plain": [
              "<IPython.core.display.Javascript object>"
            ]
          },
          "metadata": {
            "tags": []
          }
        }
      ]
    },
    {
      "cell_type": "markdown",
      "metadata": {
        "id": "w1u5ZHi9NySC"
      },
      "source": [
        "### ドロップダウンでグラフで表示する要素を選択するアプリケーション\n"
      ]
    },
    {
      "cell_type": "code",
      "metadata": {
        "colab": {
          "base_uri": "https://localhost:8080/",
          "height": 672
        },
        "id": "HBOErkIh7tqf",
        "outputId": "ce49e081-1851-4c17-b034-f89fc1344221"
      },
      "source": [
        "app = JupyterDash(__name__)\n",
        "\n",
        "gapminder = px.data.gapminder()\n",
        "\n",
        "app.layout = html.Div([\n",
        "                       dcc.Dropdown(id='my_drop',\n",
        "                                    options=[{'label': cnt, 'value': cnt} for cnt in gapminder.country.unique()],\n",
        "                                    value='Japan',\n",
        "\n",
        "                                    ),\n",
        "                       dcc.Graph(id='my_graph')\n",
        "])\n",
        "\n",
        "@app.callback(Output('my_graph', 'figure'), Input('my_drop', 'value'))\n",
        "def update_graph(selected_value):\n",
        "  dff = gapminder[gapminder.country == selected_value]\n",
        "  return px.line(dff, x='year', y='pop', color='country')\n",
        "\n",
        "app.run_server(mode='inline')"
      ],
      "execution_count": 18,
      "outputs": [
        {
          "output_type": "display_data",
          "data": {
            "application/javascript": [
              "(async (port, path, width, height, cache, element) => {\n",
              "    if (!google.colab.kernel.accessAllowed && !cache) {\n",
              "      return;\n",
              "    }\n",
              "    element.appendChild(document.createTextNode(''));\n",
              "    const url = await google.colab.kernel.proxyPort(port, {cache});\n",
              "    const iframe = document.createElement('iframe');\n",
              "    iframe.src = url + path;\n",
              "    iframe.height = height;\n",
              "    iframe.width = width;\n",
              "    iframe.style.border = 0;\n",
              "    element.appendChild(iframe);\n",
              "  })(8050, \"/\", \"100%\", 650, false, window.element)"
            ],
            "text/plain": [
              "<IPython.core.display.Javascript object>"
            ]
          },
          "metadata": {
            "tags": []
          }
        }
      ]
    },
    {
      "cell_type": "markdown",
      "metadata": {
        "id": "mXXjv8EhnLFj"
      },
      "source": [
        "### コールバックの作り方\n",
        "- dash.callback に対して次の要素を渡す。\n",
        "  - 処理したデータの行き先となる属性(Output)\n",
        "  - 動作のきっかけとなるコンポーネントの属性(Input)\n",
        "  - 動作に使うコンポーネントの属性(State)\n",
        "  - 起動直後にコールバックを動作させるかの設定(prevent_initial_call)\n",
        "- Inputで指定した属性が変化した際に呼び出される関数\n",
        "  - 関数名、引数名は任意\n",
        "  - 戻り値はOutputで指定した出力先に渡される"
      ]
    },
    {
      "cell_type": "markdown",
      "metadata": {
        "id": "RAYtMsiITlV8"
      },
      "source": [
        "### 課題3\n",
        "- 上の国名を複数選択できるように更新しましょう\n",
        "- もう一つドロップダウンを加え、表示要素（現在は人口の表示ですが、gdpPercap, lifeExp）を変更できるようにしましょう。そうすると何を表示しているか分かり難いので、タイトルに要素名を表示するように変更しましょう。     \n",
        "     \n",
        "（30分）\n"
      ]
    },
    {
      "cell_type": "code",
      "metadata": {
        "id": "ewTi_K13WCqV"
      },
      "source": [
        ""
      ],
      "execution_count": null,
      "outputs": []
    }
  ]
}